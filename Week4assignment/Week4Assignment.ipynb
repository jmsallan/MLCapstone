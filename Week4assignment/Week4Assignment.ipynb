{
 "cells": [
  {
   "cell_type": "markdown",
   "metadata": {},
   "source": [
    "# Introduction / business problem\n",
    "\n",
    "The Foursquare app provides information about venues and users around a specific location. The app allows you to **search** venues of a specific category around a location (specified with longitude and latitude values), and to **explore** the popular or trending spots around a location.\n",
    "\n",
    "The information provided by the Foursquare app is relevant for entrepreneurs looking for a location to establish her/his business. Place is one of the 4 Ps of the marketing mix (the other being product, price and promotion), and it is absolutely crucial in the restaurant industry.\n",
    "\n",
    "The aim of my final capstone project is **to find the adequate district to open a restaurant of a specific category, based on restaurants existing in a district**. The idea behind the project is that people will tend to look for restaurants of a specific category in places where they know that there are restaurants of this kind. For instance, if you are looking for a fish restaurant in Barcelona, you will go to the Barceloneta neighbourhood, near to the sea and the traditional location of fish and paella restaurants.\n",
    "\n",
    "My intention is to develop a template to cluster neighbourhoods around types of restaurants using **New York** neighbourhoods, and then use this template to analyze the neighbourhoods of my city, **Barcelona**. Barcelona has an growing tourist industry, and this analysis can be specially interesting for Barcelonian entrepreneurs looking to open a new restaurant venue."
   ]
  },
  {
   "cell_type": "markdown",
   "metadata": {},
   "source": [
    "# Data\n",
    "\n",
    "The procedure of data acquisition for this project will be as follows:\n",
    "\n",
    "- I will start to **explore** all the neighbourhoods, to retrieve the **trending** venues of each place. I will explore the neighbourhoods in **dining hours**, the most relevant for the restaurant industry.\n",
    "- This exploration will allow me to retrieve a list of **categories** of each neighbourhood. Then I need to obtain a list of **restaurant categories**. To get that list, I will use **regular expressions** to retrieve category names with a specific naming.\n",
    "- Once I have obtained the restaurant category list, I will proceed to **search** in each neighbourhood venues within each category. This will allow me to obtain the **quantity** and **average rating** of venues of each category for each neighbourhood."
   ]
  },
  {
   "cell_type": "code",
   "execution_count": null,
   "metadata": {},
   "outputs": [],
   "source": []
  }
 ],
 "metadata": {
  "kernelspec": {
   "display_name": "Python 3",
   "language": "python",
   "name": "python3"
  },
  "language_info": {
   "codemirror_mode": {
    "name": "ipython",
    "version": 3
   },
   "file_extension": ".py",
   "mimetype": "text/x-python",
   "name": "python",
   "nbconvert_exporter": "python",
   "pygments_lexer": "ipython3",
   "version": "3.7.3"
  }
 },
 "nbformat": 4,
 "nbformat_minor": 2
}
